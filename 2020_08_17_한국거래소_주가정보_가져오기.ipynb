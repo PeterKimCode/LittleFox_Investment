{
  "nbformat": 4,
  "nbformat_minor": 0,
  "metadata": {
    "colab": {
      "name": "2020_08_17_한국거래소_주가정보_가져오기.ipynb",
      "provenance": [],
      "collapsed_sections": [],
      "authorship_tag": "ABX9TyNTNQhMqBy/7gAM2csX0U+H",
      "include_colab_link": true
    },
    "kernelspec": {
      "name": "python3",
      "display_name": "Python 3"
    }
  },
  "cells": [
    {
      "cell_type": "markdown",
      "metadata": {
        "id": "view-in-github",
        "colab_type": "text"
      },
      "source": [
        "<a href=\"https://colab.research.google.com/github/seungyounglim/LittleFox_Investment/blob/master/2020_08_17_%ED%95%9C%EA%B5%AD%EA%B1%B0%EB%9E%98%EC%86%8C_%EC%A3%BC%EA%B0%80%EC%A0%95%EB%B3%B4_%EA%B0%80%EC%A0%B8%EC%98%A4%EA%B8%B0.ipynb\" target=\"_parent\"><img src=\"https://colab.research.google.com/assets/colab-badge.svg\" alt=\"Open In Colab\"/></a>"
      ]
    },
    {
      "cell_type": "markdown",
      "metadata": {
        "id": "8GO1h72cu7mA",
        "colab_type": "text"
      },
      "source": [
        "# 한국거래소 기업/시세 공시 정보 제공 서비스\n",
        "- 실시간시세_영문 XML 사용해서 필요한 정보 가져오기"
      ]
    },
    {
      "cell_type": "code",
      "metadata": {
        "id": "K-0bXrXNa3nS",
        "colab_type": "code",
        "colab": {}
      },
      "source": [
        "import collections\n",
        "import pandas as pd\n",
        "from urllib.request import urlopen\n",
        "from bs4 import BeautifulSoup\n",
        "\n",
        "DungRak_map = {\"1\":\"상한\",\"2\":\"상승\",\"3\":\"보합\",\"4\":\"하한\",\"5\":\"보합\"}\n",
        "mapping = {\"JongName\":\"종목명\",\"CurJuka\":\"현재가\",\"Debi\":\"전일대비\",\"DungRak\":\"등락\",\"PrevJuka\":\"전일종가\",\"Volume\":\"거래량\",\"Money\":\"거래대금\",\"StartJuka\":\"시가\",\"HighJuka\":\"고가\",\"LowJuka\":\"저가\",\"High52\":\"52주최고\",\"Low52\":\"52주최저\",\"UpJuka\":\"상한가\",\"DownJuka\":\"하한가\",\"Per\":\"PER\",\"Amount\":\"상장주식수\",\"FaceJuka\":\"액면가\"}\n",
        "daily_mapping = {\"day_Date\":\"일자\",\"day_EndPrice\":\"종가\",\"day_getDebi\":\"전일대비\",\"day_Dungrak\":\"전일대비(등락)\",\"day_Start\":\"시가\",\"day_High\":\"고가\",\"day_Low\":\"저가\",\"day_Volume\":\"거래량\",\"day_getAmount\":\"거래대금\"}\n",
        "ask_mapping = {\"member_memdoMem\":\"매도상위 증권사\",\"member_memdoVol\":\"매도 거래량\", \"member_memsoMem\":\"매수상위 증권사\", \"member_mesuoVol\":\"매수 거래량\"}\n"
      ],
      "execution_count": 1,
      "outputs": []
    },
    {
      "cell_type": "code",
      "metadata": {
        "id": "mfzOZAmt4Uo-",
        "colab_type": "code",
        "colab": {}
      },
      "source": [
        "STOCK_CODE = \"005380\" ## 관심 종목 입력\n",
        " \n",
        "url=\"http://asp1.krx.co.kr/servlet/krx.asp.XMLSiseEng?code={}\".format(STOCK_CODE)\n",
        "result=urlopen(url).read()\n",
        "xmlsoup=BeautifulSoup(result,\"lxml-xml\")"
      ],
      "execution_count": 2,
      "outputs": []
    },
    {
      "cell_type": "markdown",
      "metadata": {
        "id": "RxSZehW_EKI6",
        "colab_type": "text"
      },
      "source": [
        "</br>"
      ]
    },
    {
      "cell_type": "markdown",
      "metadata": {
        "id": "Uau74uiCzXG3",
        "colab_type": "text"
      },
      "source": [
        "## 1. 실시간 주가정보 가지고 오기"
      ]
    },
    {
      "cell_type": "code",
      "metadata": {
        "id": "BMPElqmurmBY",
        "colab_type": "code",
        "colab": {
          "base_uri": "https://localhost:8080/",
          "height": 164
        },
        "outputId": "1e285aad-eabd-45d0-a0e5-f180fb59264e"
      },
      "source": [
        "stock = xmlsoup.find(\"TBL_StockInfo\")\n",
        "\n",
        "df_data = collections.OrderedDict()\n",
        "for k, v in stock.attrs.items():\n",
        "  if k == \"DungRak\": v = DungRak_map[v]\n",
        "  df_data[mapping[k]] = v\n",
        "stock_df=pd.DataFrame(df_data, index=[0])\n",
        "stock_df=stock_df.applymap(lambda x: x.replace(\",\",\"\"))\n",
        "\n",
        "stock_df"
      ],
      "execution_count": 3,
      "outputs": [
        {
          "output_type": "execute_result",
          "data": {
            "text/html": [
              "<div>\n",
              "<style scoped>\n",
              "    .dataframe tbody tr th:only-of-type {\n",
              "        vertical-align: middle;\n",
              "    }\n",
              "\n",
              "    .dataframe tbody tr th {\n",
              "        vertical-align: top;\n",
              "    }\n",
              "\n",
              "    .dataframe thead th {\n",
              "        text-align: right;\n",
              "    }\n",
              "</style>\n",
              "<table border=\"1\" class=\"dataframe\">\n",
              "  <thead>\n",
              "    <tr style=\"text-align: right;\">\n",
              "      <th></th>\n",
              "      <th>종목명</th>\n",
              "      <th>현재가</th>\n",
              "      <th>등락</th>\n",
              "      <th>전일대비</th>\n",
              "      <th>전일종가</th>\n",
              "      <th>거래량</th>\n",
              "      <th>거래대금</th>\n",
              "      <th>시가</th>\n",
              "      <th>고가</th>\n",
              "      <th>저가</th>\n",
              "      <th>52주최고</th>\n",
              "      <th>52주최저</th>\n",
              "      <th>상한가</th>\n",
              "      <th>하한가</th>\n",
              "      <th>PER</th>\n",
              "      <th>상장주식수</th>\n",
              "      <th>액면가</th>\n",
              "    </tr>\n",
              "  </thead>\n",
              "  <tbody>\n",
              "    <tr>\n",
              "      <th>0</th>\n",
              "      <td>HyundaiMotor</td>\n",
              "      <td>167000</td>\n",
              "      <td>보합</td>\n",
              "      <td>3000</td>\n",
              "      <td>170000</td>\n",
              "      <td>4469158</td>\n",
              "      <td>739685611000</td>\n",
              "      <td>171000</td>\n",
              "      <td>172000</td>\n",
              "      <td>161000</td>\n",
              "      <td>179000</td>\n",
              "      <td>65900</td>\n",
              "      <td>221000</td>\n",
              "      <td>119000</td>\n",
              "      <td>14.77</td>\n",
              "      <td>213668187</td>\n",
              "      <td>5000</td>\n",
              "    </tr>\n",
              "  </tbody>\n",
              "</table>\n",
              "</div>"
            ],
            "text/plain": [
              "            종목명     현재가  등락  전일대비  ...     하한가    PER      상장주식수   액면가\n",
              "0  HyundaiMotor  167000  보합  3000  ...  119000  14.77  213668187  5000\n",
              "\n",
              "[1 rows x 17 columns]"
            ]
          },
          "metadata": {
            "tags": []
          },
          "execution_count": 3
        }
      ]
    },
    {
      "cell_type": "markdown",
      "metadata": {
        "id": "byOhGWpNENjA",
        "colab_type": "text"
      },
      "source": [
        "</br>"
      ]
    },
    {
      "cell_type": "markdown",
      "metadata": {
        "id": "Yk0NsL3AzZo0",
        "colab_type": "text"
      },
      "source": [
        "## 2. 일별 주가 가지고 오기"
      ]
    },
    {
      "cell_type": "code",
      "metadata": {
        "id": "1BZnxa55zbvb",
        "colab_type": "code",
        "colab": {}
      },
      "source": [
        "daily_stock = xmlsoup.find(\"TBL_DailyStock\")\n",
        "daily_stock = daily_stock.find_all(\"DailyStock\")\n",
        "\n",
        "reverse_dict = {v:k for k, v in daily_mapping.items()}\n",
        "daily_stock_df = collections.OrderedDict({k:[] for k in list(daily_mapping.values())})\n",
        "for dat in daily_stock:\n",
        "  for k in daily_stock_df.keys():\n",
        "    if reverse_dict[k] in dat.attrs:\n",
        "      v = dat.attrs[reverse_dict[k]]\n",
        "      if reverse_dict[k] == \"day_Dungrak\": v = DungRak_map[v]\n",
        "    else:\n",
        "      v = \"None\"\n",
        "    daily_stock_df[k].append(v)\n",
        "\n",
        "daily_stock_df=pd.DataFrame(daily_stock_df)"
      ],
      "execution_count": 4,
      "outputs": []
    },
    {
      "cell_type": "code",
      "metadata": {
        "id": "ZZiP-0vc3sey",
        "colab_type": "code",
        "colab": {
          "base_uri": "https://localhost:8080/",
          "height": 347
        },
        "outputId": "63bed1f7-5e6d-410a-a9dd-3b48284b451b"
      },
      "source": [
        "daily_stock_df"
      ],
      "execution_count": 5,
      "outputs": [
        {
          "output_type": "execute_result",
          "data": {
            "text/html": [
              "<div>\n",
              "<style scoped>\n",
              "    .dataframe tbody tr th:only-of-type {\n",
              "        vertical-align: middle;\n",
              "    }\n",
              "\n",
              "    .dataframe tbody tr th {\n",
              "        vertical-align: top;\n",
              "    }\n",
              "\n",
              "    .dataframe thead th {\n",
              "        text-align: right;\n",
              "    }\n",
              "</style>\n",
              "<table border=\"1\" class=\"dataframe\">\n",
              "  <thead>\n",
              "    <tr style=\"text-align: right;\">\n",
              "      <th></th>\n",
              "      <th>일자</th>\n",
              "      <th>종가</th>\n",
              "      <th>전일대비</th>\n",
              "      <th>전일대비(등락)</th>\n",
              "      <th>시가</th>\n",
              "      <th>고가</th>\n",
              "      <th>저가</th>\n",
              "      <th>거래량</th>\n",
              "      <th>거래대금</th>\n",
              "    </tr>\n",
              "  </thead>\n",
              "  <tbody>\n",
              "    <tr>\n",
              "      <th>0</th>\n",
              "      <td>20/08/14</td>\n",
              "      <td>167,000</td>\n",
              "      <td>3,000</td>\n",
              "      <td>보합</td>\n",
              "      <td>171,000</td>\n",
              "      <td>172,000</td>\n",
              "      <td>161,000</td>\n",
              "      <td>4,469,158</td>\n",
              "      <td>739,685,611,000</td>\n",
              "    </tr>\n",
              "    <tr>\n",
              "      <th>1</th>\n",
              "      <td>20/08/13</td>\n",
              "      <td>170,000</td>\n",
              "      <td>2,000</td>\n",
              "      <td>보합</td>\n",
              "      <td>175,000</td>\n",
              "      <td>177,500</td>\n",
              "      <td>167,000</td>\n",
              "      <td>3,997,431</td>\n",
              "      <td>685,908,473,000</td>\n",
              "    </tr>\n",
              "    <tr>\n",
              "      <th>2</th>\n",
              "      <td>20/08/12</td>\n",
              "      <td>172,000</td>\n",
              "      <td>7,000</td>\n",
              "      <td>보합</td>\n",
              "      <td>174,000</td>\n",
              "      <td>178,500</td>\n",
              "      <td>170,500</td>\n",
              "      <td>4,877,139</td>\n",
              "      <td>849,763,235,000</td>\n",
              "    </tr>\n",
              "    <tr>\n",
              "      <th>3</th>\n",
              "      <td>20/08/11</td>\n",
              "      <td>179,000</td>\n",
              "      <td>9,000</td>\n",
              "      <td>상승</td>\n",
              "      <td>171,500</td>\n",
              "      <td>180,500</td>\n",
              "      <td>164,500</td>\n",
              "      <td>6,776,406</td>\n",
              "      <td>1,160,211,562,122</td>\n",
              "    </tr>\n",
              "    <tr>\n",
              "      <th>4</th>\n",
              "      <td>20/08/10</td>\n",
              "      <td>170,000</td>\n",
              "      <td>23,000</td>\n",
              "      <td>상승</td>\n",
              "      <td>151,500</td>\n",
              "      <td>172,500</td>\n",
              "      <td>151,000</td>\n",
              "      <td>8,460,795</td>\n",
              "      <td>1,380,327,846,500</td>\n",
              "    </tr>\n",
              "    <tr>\n",
              "      <th>5</th>\n",
              "      <td>20/08/07</td>\n",
              "      <td>147,000</td>\n",
              "      <td>2,500</td>\n",
              "      <td>상승</td>\n",
              "      <td>145,500</td>\n",
              "      <td>149,500</td>\n",
              "      <td>144,500</td>\n",
              "      <td>3,208,082</td>\n",
              "      <td>471,439,724,500</td>\n",
              "    </tr>\n",
              "    <tr>\n",
              "      <th>6</th>\n",
              "      <td>20/08/06</td>\n",
              "      <td>144,500</td>\n",
              "      <td>10,500</td>\n",
              "      <td>상승</td>\n",
              "      <td>136,500</td>\n",
              "      <td>146,000</td>\n",
              "      <td>136,000</td>\n",
              "      <td>4,040,334</td>\n",
              "      <td>573,497,284,275</td>\n",
              "    </tr>\n",
              "    <tr>\n",
              "      <th>7</th>\n",
              "      <td>20/08/05</td>\n",
              "      <td>134,000</td>\n",
              "      <td>1,500</td>\n",
              "      <td>상승</td>\n",
              "      <td>133,000</td>\n",
              "      <td>135,500</td>\n",
              "      <td>132,000</td>\n",
              "      <td>1,859,551</td>\n",
              "      <td>248,928,134,000</td>\n",
              "    </tr>\n",
              "    <tr>\n",
              "      <th>8</th>\n",
              "      <td>20/08/04</td>\n",
              "      <td>132,500</td>\n",
              "      <td>5,500</td>\n",
              "      <td>상승</td>\n",
              "      <td>129,500</td>\n",
              "      <td>134,000</td>\n",
              "      <td>129,000</td>\n",
              "      <td>2,492,506</td>\n",
              "      <td>328,677,840,500</td>\n",
              "    </tr>\n",
              "    <tr>\n",
              "      <th>9</th>\n",
              "      <td>20/08/03</td>\n",
              "      <td>127,000</td>\n",
              "      <td>500</td>\n",
              "      <td>상승</td>\n",
              "      <td>126,500</td>\n",
              "      <td>128,500</td>\n",
              "      <td>123,500</td>\n",
              "      <td>1,868,315</td>\n",
              "      <td>236,001,457,000</td>\n",
              "    </tr>\n",
              "  </tbody>\n",
              "</table>\n",
              "</div>"
            ],
            "text/plain": [
              "         일자       종가    전일대비  ...       저가        거래량               거래대금\n",
              "0  20/08/14  167,000   3,000  ...  161,000  4,469,158    739,685,611,000\n",
              "1  20/08/13  170,000   2,000  ...  167,000  3,997,431    685,908,473,000\n",
              "2  20/08/12  172,000   7,000  ...  170,500  4,877,139    849,763,235,000\n",
              "3  20/08/11  179,000   9,000  ...  164,500  6,776,406  1,160,211,562,122\n",
              "4  20/08/10  170,000  23,000  ...  151,000  8,460,795  1,380,327,846,500\n",
              "5  20/08/07  147,000   2,500  ...  144,500  3,208,082    471,439,724,500\n",
              "6  20/08/06  144,500  10,500  ...  136,000  4,040,334    573,497,284,275\n",
              "7  20/08/05  134,000   1,500  ...  132,000  1,859,551    248,928,134,000\n",
              "8  20/08/04  132,500   5,500  ...  129,000  2,492,506    328,677,840,500\n",
              "9  20/08/03  127,000     500  ...  123,500  1,868,315    236,001,457,000\n",
              "\n",
              "[10 rows x 9 columns]"
            ]
          },
          "metadata": {
            "tags": []
          },
          "execution_count": 5
        }
      ]
    },
    {
      "cell_type": "markdown",
      "metadata": {
        "id": "-g-XfAPpEPUx",
        "colab_type": "text"
      },
      "source": [
        "</br>"
      ]
    },
    {
      "cell_type": "markdown",
      "metadata": {
        "id": "Q73LbTJA7M4t",
        "colab_type": "text"
      },
      "source": [
        "## 3. 매도/매수 상위 증권사 정보"
      ]
    },
    {
      "cell_type": "code",
      "metadata": {
        "id": "iOwd5RhW0wea",
        "colab_type": "code",
        "colab": {}
      },
      "source": [
        "ask_price = xmlsoup.find(\"TBL_AskPrice\")\n",
        "ask_price = ask_price.find_all(\"AskPrice\")\n",
        "\n",
        "reverse_dict = {v:k for k, v in ask_mapping.items()}\n",
        "ask_price_df = collections.OrderedDict({k:[] for k in list(ask_mapping.values())})\n",
        "for dat in ask_price:\n",
        "  for k in ask_price_df.keys():\n",
        "    if reverse_dict[k] in dat.attrs:\n",
        "      v = dat.attrs[reverse_dict[k]]\n",
        "    else:\n",
        "      v = \"None\"\n",
        "    ask_price_df[k].append(v)\n",
        "\n",
        "ask_price_df=pd.DataFrame(ask_price_df)"
      ],
      "execution_count": 6,
      "outputs": []
    },
    {
      "cell_type": "code",
      "metadata": {
        "id": "6iGbN__68B0O",
        "colab_type": "code",
        "colab": {
          "base_uri": "https://localhost:8080/",
          "height": 197
        },
        "outputId": "e4fc8cf3-9695-4a05-e556-1f6f6a85a94a"
      },
      "source": [
        "ask_price_df"
      ],
      "execution_count": 7,
      "outputs": [
        {
          "output_type": "execute_result",
          "data": {
            "text/html": [
              "<div>\n",
              "<style scoped>\n",
              "    .dataframe tbody tr th:only-of-type {\n",
              "        vertical-align: middle;\n",
              "    }\n",
              "\n",
              "    .dataframe tbody tr th {\n",
              "        vertical-align: top;\n",
              "    }\n",
              "\n",
              "    .dataframe thead th {\n",
              "        text-align: right;\n",
              "    }\n",
              "</style>\n",
              "<table border=\"1\" class=\"dataframe\">\n",
              "  <thead>\n",
              "    <tr style=\"text-align: right;\">\n",
              "      <th></th>\n",
              "      <th>매도상위 증권사</th>\n",
              "      <th>매도 거래량</th>\n",
              "      <th>매수상위 증권사</th>\n",
              "      <th>매수 거래량</th>\n",
              "    </tr>\n",
              "  </thead>\n",
              "  <tbody>\n",
              "    <tr>\n",
              "      <th>0</th>\n",
              "      <td>MIRAE ASSET DAEWOO CO., LTD.</td>\n",
              "      <td>994,507</td>\n",
              "      <td>MIRAE ASSET DAEWOO CO., LTD.</td>\n",
              "      <td>1,078,227</td>\n",
              "    </tr>\n",
              "    <tr>\n",
              "      <th>1</th>\n",
              "      <td>Kiwoom.com Securities Co., Ltd.</td>\n",
              "      <td>510,038</td>\n",
              "      <td>Kiwoom.com Securities Co., Ltd.</td>\n",
              "      <td>550,238</td>\n",
              "    </tr>\n",
              "    <tr>\n",
              "      <th>2</th>\n",
              "      <td>BNK Securities Co., Ltd.</td>\n",
              "      <td>468,239</td>\n",
              "      <td>BNK Securities Co., Ltd.</td>\n",
              "      <td>401,218</td>\n",
              "    </tr>\n",
              "    <tr>\n",
              "      <th>3</th>\n",
              "      <td>Samsung Securities Co., Ltd.</td>\n",
              "      <td>311,210</td>\n",
              "      <td>Samsung Securities Co., Ltd.</td>\n",
              "      <td>327,011</td>\n",
              "    </tr>\n",
              "    <tr>\n",
              "      <th>4</th>\n",
              "      <td>Korea Investment %26 Securities Co., Ltd.</td>\n",
              "      <td>292,525</td>\n",
              "      <td>Korea Investment %26 Securities Co., Ltd.</td>\n",
              "      <td>316,843</td>\n",
              "    </tr>\n",
              "  </tbody>\n",
              "</table>\n",
              "</div>"
            ],
            "text/plain": [
              "                                    매도상위 증권사  ...     매수 거래량\n",
              "0               MIRAE ASSET DAEWOO CO., LTD.  ...  1,078,227\n",
              "1            Kiwoom.com Securities Co., Ltd.  ...    550,238\n",
              "2                   BNK Securities Co., Ltd.  ...    401,218\n",
              "3               Samsung Securities Co., Ltd.  ...    327,011\n",
              "4  Korea Investment %26 Securities Co., Ltd.  ...    316,843\n",
              "\n",
              "[5 rows x 4 columns]"
            ]
          },
          "metadata": {
            "tags": []
          },
          "execution_count": 7
        }
      ]
    },
    {
      "cell_type": "markdown",
      "metadata": {
        "id": "jkk2stefES-g",
        "colab_type": "text"
      },
      "source": [
        "</br>"
      ]
    },
    {
      "cell_type": "markdown",
      "metadata": {
        "id": "Yn2f8x4Y_2Cg",
        "colab_type": "text"
      },
      "source": [
        "## 4. 주요 지수 정보"
      ]
    },
    {
      "cell_type": "code",
      "metadata": {
        "id": "9ls8IvF5zbyo",
        "colab_type": "code",
        "colab": {
          "base_uri": "https://localhost:8080/",
          "height": 114
        },
        "outputId": "8e4a5848-b1bc-48fb-f915-63e0fea4c4e6"
      },
      "source": [
        "stockInfo = xmlsoup.find(\"stockInfo\")\n",
        "\n",
        "# df_data = collections.OrderedDict()\n",
        "# for k, v in stock.attrs.items():\n",
        "#   if k == \"DungRak\": v = DungRak_map[v]\n",
        "#   df_data[mapping[k]] = v\n",
        "stock_df=pd.DataFrame(stockInfo.attrs, index=[0])\n",
        "stock_df=stock_df.applymap(lambda x: x.replace(\",\",\"\"))\n",
        "\n",
        "stock_df"
      ],
      "execution_count": 9,
      "outputs": [
        {
          "output_type": "execute_result",
          "data": {
            "text/html": [
              "<div>\n",
              "<style scoped>\n",
              "    .dataframe tbody tr th:only-of-type {\n",
              "        vertical-align: middle;\n",
              "    }\n",
              "\n",
              "    .dataframe tbody tr th {\n",
              "        vertical-align: top;\n",
              "    }\n",
              "\n",
              "    .dataframe thead th {\n",
              "        text-align: right;\n",
              "    }\n",
              "</style>\n",
              "<table border=\"1\" class=\"dataframe\">\n",
              "  <thead>\n",
              "    <tr style=\"text-align: right;\">\n",
              "      <th></th>\n",
              "      <th>kosdaqJisu</th>\n",
              "      <th>kosdaqJisuBuho</th>\n",
              "      <th>kosdaqJisuDebi</th>\n",
              "      <th>starJisu</th>\n",
              "      <th>starJisuBuho</th>\n",
              "      <th>starJisuDebi</th>\n",
              "      <th>jisu50</th>\n",
              "      <th>jisu50Buho</th>\n",
              "      <th>jisu50Debi</th>\n",
              "      <th>myNowTime</th>\n",
              "      <th>myJangGubun</th>\n",
              "      <th>myPublicPrice</th>\n",
              "      <th>krx100Jisu</th>\n",
              "      <th>krx100buho</th>\n",
              "      <th>krx100Debi</th>\n",
              "      <th>kospiJisu</th>\n",
              "      <th>kospiBuho</th>\n",
              "      <th>kospiDebi</th>\n",
              "      <th>kospi200Jisu</th>\n",
              "      <th>kospi200Buho</th>\n",
              "      <th>kospi200Debi</th>\n",
              "    </tr>\n",
              "  </thead>\n",
              "  <tbody>\n",
              "    <tr>\n",
              "      <th>0</th>\n",
              "      <td>835.03</td>\n",
              "      <td>5</td>\n",
              "      <td>19.74</td>\n",
              "      <td>1328.27</td>\n",
              "      <td>2</td>\n",
              "      <td>10.63</td>\n",
              "      <td></td>\n",
              "      <td></td>\n",
              "      <td></td>\n",
              "      <td>2020/08/17 15:09:07</td>\n",
              "      <td>Closed</td>\n",
              "      <td></td>\n",
              "      <td>5167.31</td>\n",
              "      <td>5</td>\n",
              "      <td>67.35</td>\n",
              "      <td>2407.49</td>\n",
              "      <td>5</td>\n",
              "      <td>30.04</td>\n",
              "      <td>319.24</td>\n",
              "      <td>5</td>\n",
              "      <td>4.09</td>\n",
              "    </tr>\n",
              "  </tbody>\n",
              "</table>\n",
              "</div>"
            ],
            "text/plain": [
              "  kosdaqJisu kosdaqJisuBuho  ... kospi200Buho kospi200Debi\n",
              "0     835.03              5  ...            5         4.09\n",
              "\n",
              "[1 rows x 21 columns]"
            ]
          },
          "metadata": {
            "tags": []
          },
          "execution_count": 9
        }
      ]
    },
    {
      "cell_type": "markdown",
      "metadata": {
        "id": "k5g_ISBVEVtw",
        "colab_type": "text"
      },
      "source": [
        "</br>"
      ]
    },
    {
      "cell_type": "markdown",
      "metadata": {
        "id": "0s6XA_EnvGVa",
        "colab_type": "text"
      },
      "source": [
        "# 다른 정보 가지고 오기"
      ]
    },
    {
      "cell_type": "code",
      "metadata": {
        "id": "pvRtLThkwxgF",
        "colab_type": "code",
        "colab": {}
      },
      "source": [
        "URL_LINK = {\n",
        " \"실시간시세_국문\": \"http://asp1.krx.co.kr/servlet/krx.asp.XMLSise?code={}\" ,\n",
        " \"실시간시세_영문\": \"http://asp1.krx.co.kr/servlet/krx.asp.XMLSiseEng?code={}\" ,\n",
        " \"공시정보_국문\"    : \"http://asp1.krx.co.kr/servlet/krx.asp.DisList4MainServlet?code={}&gubun=K\" ,\n",
        " \"공시정보_영문\"    : \"http://asp1.krx.co.kr/servlet/krx.asp.DisList4MainServlet?code={}&gubun=E\" ,\n",
        " \"재무종합_국문\"    : \"http://asp1.krx.co.kr/servlet/krx.asp.XMLJemu?code={}\",\n",
        " \"재무종합_영문\"    : \"http://asp1.krx.co.kr/servlet/krx.asp.XMLJemuEng?code={}\",\n",
        " \"재무종합2_국문\" : \"http://asp1.krx.co.kr/servlet/krx.asp.XMLJemu2?code={}\",\n",
        " \"재무종합3_국문\" : \"http://asp1.krx.co.kr/servlet/krx.asp.XMLJemu3?code={}\",\n",
        " \"텍스트\" : \"http://asp1.krx.co.kr/servlet/krx.asp.XMLText?code={}\"\n",
        "}\n",
        "\n",
        "def get_url (STOCK_CODE , TYPE):\n",
        "  result=urlopen(URL_LINK[TYPE].replace(\"{}\", STOCK_CODE)).read()\n",
        "  return result"
      ],
      "execution_count": 10,
      "outputs": []
    },
    {
      "cell_type": "code",
      "metadata": {
        "id": "2v3FB4ZRry0H",
        "colab_type": "code",
        "colab": {
          "base_uri": "https://localhost:8080/",
          "height": 176
        },
        "outputId": "71c0a42b-d889-4318-eb36-aa17c17af4b3"
      },
      "source": [
        "TYPE = \"재무종합_영문\"\n",
        "result=get_url(STOCK_CODE, TYPE)\n",
        "xmlsoup=BeautifulSoup(result,\"lxml-xml\")\n",
        "xmlsoup"
      ],
      "execution_count": 11,
      "outputs": [
        {
          "output_type": "execute_result",
          "data": {
            "text/plain": [
              "<?xml version=\"1.0\" encoding=\"utf-8\"?>\n",
              "<?xml version=\"1.0\" encoding=\"utf-8\" ?><financialTotal querytime=\"2020-08-17 15:09:08\">\n",
              "<TBL_DaeCha month0=\"\" month1=\"\" month2=\"\" year0=\"\" year1=\"\" year2=\"\">\n",
              "</TBL_DaeCha>\n",
              "<TBL_SonIk month0=\"\" month1=\"\" month2=\"\" year0=\"\" year1=\"\" year2=\"\">\n",
              "</TBL_SonIk>\n",
              "<TBL_CashFlow month0=\"\" month1=\"\" month2=\"\" year0=\"\" year1=\"\" year2=\"\">\n",
              "</TBL_CashFlow>\n",
              "</financialTotal>"
            ]
          },
          "metadata": {
            "tags": []
          },
          "execution_count": 11
        }
      ]
    }
  ]
}